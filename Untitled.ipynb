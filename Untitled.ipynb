{
 "cells": [
  {
   "cell_type": "code",
   "execution_count": 1,
   "id": "083d423c-a2ed-4b7e-a55d-0d487e995f5d",
   "metadata": {
    "tags": []
   },
   "outputs": [
    {
     "data": {
      "text/markdown": [
       "\n",
       "Here's some regular text..\n",
       "\n",
       "```shell\n",
       "This is some code\n",
       "```\n",
       "\n",
       "And `here is inline code` - cool\n"
      ],
      "text/plain": [
       "<IPython.core.display.Markdown object>"
      ]
     },
     "metadata": {},
     "output_type": "display_data"
    }
   ],
   "source": [
    "from IPython.display import display, Markdown\n",
    "\n",
    "x = \"\"\"\n",
    "Here's some regular text..\n",
    "\n",
    "```shell\n",
    "This is some code\n",
    "```\n",
    "\n",
    "And `here is inline code` - cool\n",
    "\"\"\"\n",
    "display(Markdown(x))"
   ]
  },
  {
   "cell_type": "code",
   "execution_count": null,
   "id": "67ac69f0-8013-4835-9add-4a4cca2e8236",
   "metadata": {},
   "outputs": [],
   "source": []
  }
 ],
 "metadata": {
  "kernelspec": {
   "display_name": "Python 3 (ipykernel)",
   "language": "python",
   "name": "python3"
  },
  "language_info": {
   "codemirror_mode": {
    "name": "ipython",
    "version": 3
   },
   "file_extension": ".py",
   "mimetype": "text/x-python",
   "name": "python",
   "nbconvert_exporter": "python",
   "pygments_lexer": "ipython3",
   "version": "3.11.9"
  }
 },
 "nbformat": 4,
 "nbformat_minor": 5
}
